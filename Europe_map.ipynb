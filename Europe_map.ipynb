{
  "nbformat": 4,
  "nbformat_minor": 0,
  "metadata": {
    "colab": {
      "name": "Europe_map.ipynb",
      "provenance": [],
      "authorship_tag": "ABX9TyNeMiRDFeNGepoxJeO9zuCU",
      "include_colab_link": true
    },
    "kernelspec": {
      "name": "python3",
      "display_name": "Python 3"
    }
  },
  "cells": [
    {
      "cell_type": "markdown",
      "metadata": {
        "id": "view-in-github",
        "colab_type": "text"
      },
      "source": [
        "<a href=\"https://colab.research.google.com/github/Shambhavi-Gupta/Europe_Map/blob/master/Europe_map.ipynb\" target=\"_parent\"><img src=\"https://colab.research.google.com/assets/colab-badge.svg\" alt=\"Open In Colab\"/></a>"
      ]
    },
    {
      "cell_type": "markdown",
      "metadata": {
        "id": "sLgFIClSKGv3",
        "colab_type": "text"
      },
      "source": [
        "# This is a choropleth map of Europe and when you hover the mouse on any of the coloured countries you can get a knowledge of the name of that country, total population and the President of that respective country."
      ]
    },
    {
      "cell_type": "code",
      "metadata": {
        "id": "C0LibsbrN2ie",
        "colab_type": "code",
        "colab": {
          "base_uri": "https://localhost:8080/",
          "height": 85
        },
        "outputId": "b7572c82-4e57-4420-e80f-3d37a6f16931"
      },
      "source": [
        "import seaborn as sns\n",
        "import plotly.io as pio\n",
        "pio.templates.default = \"plotly_dark\"\n",
        "sns.set(style=\"darkgrid\")"
      ],
      "execution_count": 64,
      "outputs": [
        {
          "output_type": "stream",
          "text": [
            "/usr/local/lib/python3.6/dist-packages/statsmodels/tools/_testing.py:19: FutureWarning:\n",
            "\n",
            "pandas.util.testing is deprecated. Use the functions in the public API at pandas.testing instead.\n",
            "\n"
          ],
          "name": "stderr"
        }
      ]
    },
    {
      "cell_type": "code",
      "metadata": {
        "id": "dQKTD8f2N2Kt",
        "colab_type": "code",
        "colab": {}
      },
      "source": [
        "import numpy as np\n",
        "import pandas as pd\n",
        "import plotly.express as py \n",
        "import plotly.graph_objs as go \n",
        "\n",
        "  \n"
      ],
      "execution_count": 0,
      "outputs": []
    },
    {
      "cell_type": "code",
      "metadata": {
        "id": "iBqZ19l8N125",
        "colab_type": "code",
        "colab": {}
      },
      "source": [
        "# some more libraries to plot graph \n",
        "from plotly.offline import iplot, init_notebook_mode "
      ],
      "execution_count": 0,
      "outputs": []
    },
    {
      "cell_type": "code",
      "metadata": {
        "id": "65DkmdejxpmA",
        "colab_type": "code",
        "outputId": "7c32d4df-9d34-4d6b-ee29-e03d977a121a",
        "colab": {
          "base_uri": "https://localhost:8080/",
          "height": 542
        }
      },
      "source": [
        "data_map = dict(type = 'choropleth',\n",
        "            locations = ['Ukraine','Estonia','France','Sweden','Ireland','Hungary','Belarus','Turkey','Portugal','Norway',\n",
        "                         'Serbia','Greece','Uk','Lithuania','Sardinia','Czech republic','Slovakia','Poland','Switzerland',\n",
        "                         'Latvia','Finland','Spain','Netherlands','Croatia','Iceland','Albania','Greece','Romania','Corsica','Austria','Germany','Sardinia',\n",
        "                         'Luxembourg','Bulgaria','Macedonia','Montenegro',\n",
        "                         'Denmark','Italy','Bosnia and Herzegovins','Belgium','Moldova','Russia'],\n",
        "\n",
        "            locationmode = 'country names',\n",
        "            colorscale= 'Portland',\n",
        "            text= ['pop:43,767,604,President:Volodymyr Zelensky','pop:1,328,108,President:Kersti Kaljulaid','pop:65,255,278,President:Emmanuel Macron',\n",
        "                   'pop:10,095,005,King:Carl XVI Gustaf',\n",
        "                   'pop:4,940,642,President:Michael D Higgins','pop:9,664,187,President:Janos Ader','pop:9,452,226,President:Alexander Lukashenko',\n",
        "                   'pop:84,422,510,President:Recep Tayyip Erdogan',\n",
        "            'pop:10,199,257,President: Marcelo Rebelo de Sousa','pop:5,415,930,King:Harald V','pop:8,744,858,President:Aleksandar Vucic',\n",
        "            'pop:10,429,737,President:Katerina Sakellaropoulou',\n",
        "            'pop:67,881,733,Queen:Elizabeth II','pop:1,963,870,President:Gitanas Nauseda','pop:1,651,793,President:Christian Solinas',\n",
        "            'pop:10,710,432,President:Milos Zeman','pop:5,460,615,President:Zuzana Caputova',\n",
        "            'pop:37,857,352,President:Andrzej Duda','pop:8,650,977,President:Simonetta Sommaruga','pop:1,887,408,President:Egils Levits',\n",
        "            'pop:5,540,792,President:Sauli Niinisto','pop:46,776,338,King:Felip VI','pop:17,131,014,King:Willem Alexander',\n",
        "            'pop:4,106,953,President:Zoranmilanovic',\n",
        "            'pop:341,131,President:Guoni Th. Johannesson','pop:2,879,277,President:Illir Meta',\n",
        "            'pop:10,429,737,President:Katerina Sakellaropoulou','pop:19,238,034,President:Klaus Lohannis','pop:330,455,Prefect:Josiane Chevalier',\n",
        "            'pop:9,012,835,President:Alexander Van Der Bellen','pop:83,871,995,President:Frank Walter Steinmeier',\n",
        "            'pop:1,651,793,President:Christian Solinas','pop:626,251,Grand Duke:Henri','pop:6,954,100,President:Rumen Radev',\n",
        "            'pop:2,083,911,President:Stevo Pendarovski',\n",
        "            'pop:628,147,President:Milo Dukanovic','pop:5,789,709,Queen:Margrethe II','pop:60,480,665,President:Sergio Mattarella',\n",
        "            'pop:3,280,503,Presidency Chairman:Sefik Dzaferovic',  'pop:11,591,006,King:Philippe',\n",
        "            'pop:4,035,466,President:Igor Dodon','pop:145,996,764,President:Vladimir Putin'],\n",
        "            z=[1,2,3,4,5,6,7,8,9,10,11,12,13,14,15,16,17,18,19,20,21,22,23,24,25,26,27,28,29,30,31,32,33,34,35,36,37,38,39,40,41,42],\n",
        "            colorbar = {'title':'State Colours', 'len':200,'lenmode':'pixels' })\n",
        "#initializing the layout variable\n",
        "layout = dict(geo = {'scope':'europe'})\n",
        "# Initializing the Figure object by passing data and layout as arguments.\n",
        "fig = go.Figure(data =data_map,layout = layout)\n",
        "\n",
        "#plotting the map\n",
        "iplot(fig)"
      ],
      "execution_count": 67,
      "outputs": [
        {
          "output_type": "display_data",
          "data": {
            "text/html": [
              "<html>\n",
              "<head><meta charset=\"utf-8\" /></head>\n",
              "<body>\n",
              "    <div>\n",
              "            <script src=\"https://cdnjs.cloudflare.com/ajax/libs/mathjax/2.7.5/MathJax.js?config=TeX-AMS-MML_SVG\"></script><script type=\"text/javascript\">if (window.MathJax) {MathJax.Hub.Config({SVG: {font: \"STIX-Web\"}});}</script>\n",
              "                <script type=\"text/javascript\">window.PlotlyConfig = {MathJaxConfig: 'local'};</script>\n",
              "        <script src=\"https://cdn.plot.ly/plotly-latest.min.js\"></script>    \n",
              "            <div id=\"aa007244-78f6-4f1b-8d5c-11197592b949\" class=\"plotly-graph-div\" style=\"height:525px; width:100%;\"></div>\n",
              "            <script type=\"text/javascript\">\n",
              "                \n",
              "                    window.PLOTLYENV=window.PLOTLYENV || {};\n",
              "                    \n",
              "                if (document.getElementById(\"aa007244-78f6-4f1b-8d5c-11197592b949\")) {\n",
              "                    Plotly.newPlot(\n",
              "                        'aa007244-78f6-4f1b-8d5c-11197592b949',\n",
              "                        [{\"colorbar\": {\"len\": 200, \"lenmode\": \"pixels\", \"title\": {\"text\": \"State Colours\"}}, \"colorscale\": [[0.0, \"rgb(12,51,131)\"], [0.25, \"rgb(10,136,186)\"], [0.5, \"rgb(242,211,56)\"], [0.75, \"rgb(242,143,56)\"], [1.0, \"rgb(217,30,30)\"]], \"locationmode\": \"country names\", \"locations\": [\"Ukraine\", \"Estonia\", \"France\", \"Sweden\", \"Ireland\", \"Hungary\", \"Belarus\", \"Turkey\", \"Portugal\", \"Norway\", \"Serbia\", \"Greece\", \"Uk\", \"Lithuania\", \"Sardinia\", \"Czech republic\", \"Slovakia\", \"Poland\", \"Switzerland\", \"Latvia\", \"Finland\", \"Spain\", \"Netherlands\", \"Croatia\", \"Iceland\", \"Albania\", \"Greece\", \"Romania\", \"Corsica\", \"Austria\", \"Germany\", \"Sardinia\", \"Luxembourg\", \"Bulgaria\", \"Macedonia\", \"Montenegro\", \"Denmark\", \"Italy\", \"Bosnia and Herzegovins\", \"Belgium\", \"Moldova\", \"Russia\"], \"text\": [\"pop:43,767,604,President:Volodymyr Zelensky\", \"pop:1,328,108,President:Kersti Kaljulaid\", \"pop:65,255,278,President:Emmanuel Macron\", \"pop:10,095,005,King:Carl XVI Gustaf\", \"pop:4,940,642,President:Michael D Higgins\", \"pop:9,664,187,President:Janos Ader\", \"pop:9,452,226,President:Alexander Lukashenko\", \"pop:84,422,510,President:Recep Tayyip Erdogan\", \"pop:10,199,257,President: Marcelo Rebelo de Sousa\", \"pop:5,415,930,King:Harald V\", \"pop:8,744,858,President:Aleksandar Vucic\", \"pop:10,429,737,President:Katerina Sakellaropoulou\", \"pop:67,881,733,Queen:Elizabeth II\", \"pop:1,963,870,President:Gitanas Nauseda\", \"pop:1,651,793,President:Christian Solinas\", \"pop:10,710,432,President:Milos Zeman\", \"pop:5,460,615,President:Zuzana Caputova\", \"pop:37,857,352,President:Andrzej Duda\", \"pop:8,650,977,President:Simonetta Sommaruga\", \"pop:1,887,408,President:Egils Levits\", \"pop:5,540,792,President:Sauli Niinisto\", \"pop:46,776,338,King:Felip VI\", \"pop:17,131,014,King:Willem Alexander\", \"pop:4,106,953,President:Zoranmilanovic\", \"pop:341,131,President:Guoni Th. Johannesson\", \"pop:2,879,277,President:Illir Meta\", \"pop:10,429,737,President:Katerina Sakellaropoulou\", \"pop:19,238,034,President:Klaus Lohannis\", \"pop:330,455,Prefect:Josiane Chevalier\", \"pop:9,012,835,President:Alexander Van Der Bellen\", \"pop:83,871,995,President:Frank Walter Steinmeier\", \"pop:1,651,793,President:Christian Solinas\", \"pop:626,251,Grand Duke:Henri\", \"pop:6,954,100,President:Rumen Radev\", \"pop:2,083,911,President:Stevo Pendarovski\", \"pop:628,147,President:Milo Dukanovic\", \"pop:5,789,709,Queen:Margrethe II\", \"pop:60,480,665,President:Sergio Mattarella\", \"pop:3,280,503,Presidency Chairman:Sefik Dzaferovic\", \"pop:11,591,006,King:Philippe\", \"pop:4,035,466,President:Igor Dodon\", \"pop:145,996,764,President:Vladimir Putin\"], \"type\": \"choropleth\", \"z\": [1, 2, 3, 4, 5, 6, 7, 8, 9, 10, 11, 12, 13, 14, 15, 16, 17, 18, 19, 20, 21, 22, 23, 24, 25, 26, 27, 28, 29, 30, 31, 32, 33, 34, 35, 36, 37, 38, 39, 40, 41, 42]}],\n",
              "                        {\"geo\": {\"scope\": \"europe\"}, \"template\": {\"data\": {\"bar\": [{\"error_x\": {\"color\": \"#f2f5fa\"}, \"error_y\": {\"color\": \"#f2f5fa\"}, \"marker\": {\"line\": {\"color\": \"rgb(17,17,17)\", \"width\": 0.5}}, \"type\": \"bar\"}], \"barpolar\": [{\"marker\": {\"line\": {\"color\": \"rgb(17,17,17)\", \"width\": 0.5}}, \"type\": \"barpolar\"}], \"carpet\": [{\"aaxis\": {\"endlinecolor\": \"#A2B1C6\", \"gridcolor\": \"#506784\", \"linecolor\": \"#506784\", \"minorgridcolor\": \"#506784\", \"startlinecolor\": \"#A2B1C6\"}, \"baxis\": {\"endlinecolor\": \"#A2B1C6\", \"gridcolor\": \"#506784\", \"linecolor\": \"#506784\", \"minorgridcolor\": \"#506784\", \"startlinecolor\": \"#A2B1C6\"}, \"type\": \"carpet\"}], \"choropleth\": [{\"colorbar\": {\"outlinewidth\": 0, \"ticks\": \"\"}, \"type\": \"choropleth\"}], \"contour\": [{\"colorbar\": {\"outlinewidth\": 0, \"ticks\": \"\"}, \"colorscale\": [[0.0, \"#0d0887\"], [0.1111111111111111, \"#46039f\"], [0.2222222222222222, \"#7201a8\"], [0.3333333333333333, \"#9c179e\"], [0.4444444444444444, \"#bd3786\"], [0.5555555555555556, \"#d8576b\"], [0.6666666666666666, \"#ed7953\"], [0.7777777777777778, \"#fb9f3a\"], [0.8888888888888888, \"#fdca26\"], [1.0, \"#f0f921\"]], \"type\": \"contour\"}], \"contourcarpet\": [{\"colorbar\": {\"outlinewidth\": 0, \"ticks\": \"\"}, \"type\": \"contourcarpet\"}], \"heatmap\": [{\"colorbar\": {\"outlinewidth\": 0, \"ticks\": \"\"}, \"colorscale\": [[0.0, \"#0d0887\"], [0.1111111111111111, \"#46039f\"], [0.2222222222222222, \"#7201a8\"], [0.3333333333333333, \"#9c179e\"], [0.4444444444444444, \"#bd3786\"], [0.5555555555555556, \"#d8576b\"], [0.6666666666666666, \"#ed7953\"], [0.7777777777777778, \"#fb9f3a\"], [0.8888888888888888, \"#fdca26\"], [1.0, \"#f0f921\"]], \"type\": \"heatmap\"}], \"heatmapgl\": [{\"colorbar\": {\"outlinewidth\": 0, \"ticks\": \"\"}, \"colorscale\": [[0.0, \"#0d0887\"], [0.1111111111111111, \"#46039f\"], [0.2222222222222222, \"#7201a8\"], [0.3333333333333333, \"#9c179e\"], [0.4444444444444444, \"#bd3786\"], [0.5555555555555556, \"#d8576b\"], [0.6666666666666666, \"#ed7953\"], [0.7777777777777778, \"#fb9f3a\"], [0.8888888888888888, \"#fdca26\"], [1.0, \"#f0f921\"]], \"type\": \"heatmapgl\"}], \"histogram\": [{\"marker\": {\"colorbar\": {\"outlinewidth\": 0, \"ticks\": \"\"}}, \"type\": \"histogram\"}], \"histogram2d\": [{\"colorbar\": {\"outlinewidth\": 0, \"ticks\": \"\"}, \"colorscale\": [[0.0, \"#0d0887\"], [0.1111111111111111, \"#46039f\"], [0.2222222222222222, \"#7201a8\"], [0.3333333333333333, \"#9c179e\"], [0.4444444444444444, \"#bd3786\"], [0.5555555555555556, \"#d8576b\"], [0.6666666666666666, \"#ed7953\"], [0.7777777777777778, \"#fb9f3a\"], [0.8888888888888888, \"#fdca26\"], [1.0, \"#f0f921\"]], \"type\": \"histogram2d\"}], \"histogram2dcontour\": [{\"colorbar\": {\"outlinewidth\": 0, \"ticks\": \"\"}, \"colorscale\": [[0.0, \"#0d0887\"], [0.1111111111111111, \"#46039f\"], [0.2222222222222222, \"#7201a8\"], [0.3333333333333333, \"#9c179e\"], [0.4444444444444444, \"#bd3786\"], [0.5555555555555556, \"#d8576b\"], [0.6666666666666666, \"#ed7953\"], [0.7777777777777778, \"#fb9f3a\"], [0.8888888888888888, \"#fdca26\"], [1.0, \"#f0f921\"]], \"type\": \"histogram2dcontour\"}], \"mesh3d\": [{\"colorbar\": {\"outlinewidth\": 0, \"ticks\": \"\"}, \"type\": \"mesh3d\"}], \"parcoords\": [{\"line\": {\"colorbar\": {\"outlinewidth\": 0, \"ticks\": \"\"}}, \"type\": \"parcoords\"}], \"pie\": [{\"automargin\": true, \"type\": \"pie\"}], \"scatter\": [{\"marker\": {\"line\": {\"color\": \"#283442\"}}, \"type\": \"scatter\"}], \"scatter3d\": [{\"line\": {\"colorbar\": {\"outlinewidth\": 0, \"ticks\": \"\"}}, \"marker\": {\"colorbar\": {\"outlinewidth\": 0, \"ticks\": \"\"}}, \"type\": \"scatter3d\"}], \"scattercarpet\": [{\"marker\": {\"colorbar\": {\"outlinewidth\": 0, \"ticks\": \"\"}}, \"type\": \"scattercarpet\"}], \"scattergeo\": [{\"marker\": {\"colorbar\": {\"outlinewidth\": 0, \"ticks\": \"\"}}, \"type\": \"scattergeo\"}], \"scattergl\": [{\"marker\": {\"line\": {\"color\": \"#283442\"}}, \"type\": \"scattergl\"}], \"scattermapbox\": [{\"marker\": {\"colorbar\": {\"outlinewidth\": 0, \"ticks\": \"\"}}, \"type\": \"scattermapbox\"}], \"scatterpolar\": [{\"marker\": {\"colorbar\": {\"outlinewidth\": 0, \"ticks\": \"\"}}, \"type\": \"scatterpolar\"}], \"scatterpolargl\": [{\"marker\": {\"colorbar\": {\"outlinewidth\": 0, \"ticks\": \"\"}}, \"type\": \"scatterpolargl\"}], \"scatterternary\": [{\"marker\": {\"colorbar\": {\"outlinewidth\": 0, \"ticks\": \"\"}}, \"type\": \"scatterternary\"}], \"surface\": [{\"colorbar\": {\"outlinewidth\": 0, \"ticks\": \"\"}, \"colorscale\": [[0.0, \"#0d0887\"], [0.1111111111111111, \"#46039f\"], [0.2222222222222222, \"#7201a8\"], [0.3333333333333333, \"#9c179e\"], [0.4444444444444444, \"#bd3786\"], [0.5555555555555556, \"#d8576b\"], [0.6666666666666666, \"#ed7953\"], [0.7777777777777778, \"#fb9f3a\"], [0.8888888888888888, \"#fdca26\"], [1.0, \"#f0f921\"]], \"type\": \"surface\"}], \"table\": [{\"cells\": {\"fill\": {\"color\": \"#506784\"}, \"line\": {\"color\": \"rgb(17,17,17)\"}}, \"header\": {\"fill\": {\"color\": \"#2a3f5f\"}, \"line\": {\"color\": \"rgb(17,17,17)\"}}, \"type\": \"table\"}]}, \"layout\": {\"annotationdefaults\": {\"arrowcolor\": \"#f2f5fa\", \"arrowhead\": 0, \"arrowwidth\": 1}, \"coloraxis\": {\"colorbar\": {\"outlinewidth\": 0, \"ticks\": \"\"}}, \"colorscale\": {\"diverging\": [[0, \"#8e0152\"], [0.1, \"#c51b7d\"], [0.2, \"#de77ae\"], [0.3, \"#f1b6da\"], [0.4, \"#fde0ef\"], [0.5, \"#f7f7f7\"], [0.6, \"#e6f5d0\"], [0.7, \"#b8e186\"], [0.8, \"#7fbc41\"], [0.9, \"#4d9221\"], [1, \"#276419\"]], \"sequential\": [[0.0, \"#0d0887\"], [0.1111111111111111, \"#46039f\"], [0.2222222222222222, \"#7201a8\"], [0.3333333333333333, \"#9c179e\"], [0.4444444444444444, \"#bd3786\"], [0.5555555555555556, \"#d8576b\"], [0.6666666666666666, \"#ed7953\"], [0.7777777777777778, \"#fb9f3a\"], [0.8888888888888888, \"#fdca26\"], [1.0, \"#f0f921\"]], \"sequentialminus\": [[0.0, \"#0d0887\"], [0.1111111111111111, \"#46039f\"], [0.2222222222222222, \"#7201a8\"], [0.3333333333333333, \"#9c179e\"], [0.4444444444444444, \"#bd3786\"], [0.5555555555555556, \"#d8576b\"], [0.6666666666666666, \"#ed7953\"], [0.7777777777777778, \"#fb9f3a\"], [0.8888888888888888, \"#fdca26\"], [1.0, \"#f0f921\"]]}, \"colorway\": [\"#636efa\", \"#EF553B\", \"#00cc96\", \"#ab63fa\", \"#FFA15A\", \"#19d3f3\", \"#FF6692\", \"#B6E880\", \"#FF97FF\", \"#FECB52\"], \"font\": {\"color\": \"#f2f5fa\"}, \"geo\": {\"bgcolor\": \"rgb(17,17,17)\", \"lakecolor\": \"rgb(17,17,17)\", \"landcolor\": \"rgb(17,17,17)\", \"showlakes\": true, \"showland\": true, \"subunitcolor\": \"#506784\"}, \"hoverlabel\": {\"align\": \"left\"}, \"hovermode\": \"closest\", \"mapbox\": {\"style\": \"dark\"}, \"paper_bgcolor\": \"rgb(17,17,17)\", \"plot_bgcolor\": \"rgb(17,17,17)\", \"polar\": {\"angularaxis\": {\"gridcolor\": \"#506784\", \"linecolor\": \"#506784\", \"ticks\": \"\"}, \"bgcolor\": \"rgb(17,17,17)\", \"radialaxis\": {\"gridcolor\": \"#506784\", \"linecolor\": \"#506784\", \"ticks\": \"\"}}, \"scene\": {\"xaxis\": {\"backgroundcolor\": \"rgb(17,17,17)\", \"gridcolor\": \"#506784\", \"gridwidth\": 2, \"linecolor\": \"#506784\", \"showbackground\": true, \"ticks\": \"\", \"zerolinecolor\": \"#C8D4E3\"}, \"yaxis\": {\"backgroundcolor\": \"rgb(17,17,17)\", \"gridcolor\": \"#506784\", \"gridwidth\": 2, \"linecolor\": \"#506784\", \"showbackground\": true, \"ticks\": \"\", \"zerolinecolor\": \"#C8D4E3\"}, \"zaxis\": {\"backgroundcolor\": \"rgb(17,17,17)\", \"gridcolor\": \"#506784\", \"gridwidth\": 2, \"linecolor\": \"#506784\", \"showbackground\": true, \"ticks\": \"\", \"zerolinecolor\": \"#C8D4E3\"}}, \"shapedefaults\": {\"line\": {\"color\": \"#f2f5fa\"}}, \"sliderdefaults\": {\"bgcolor\": \"#C8D4E3\", \"bordercolor\": \"rgb(17,17,17)\", \"borderwidth\": 1, \"tickwidth\": 0}, \"ternary\": {\"aaxis\": {\"gridcolor\": \"#506784\", \"linecolor\": \"#506784\", \"ticks\": \"\"}, \"baxis\": {\"gridcolor\": \"#506784\", \"linecolor\": \"#506784\", \"ticks\": \"\"}, \"bgcolor\": \"rgb(17,17,17)\", \"caxis\": {\"gridcolor\": \"#506784\", \"linecolor\": \"#506784\", \"ticks\": \"\"}}, \"title\": {\"x\": 0.05}, \"updatemenudefaults\": {\"bgcolor\": \"#506784\", \"borderwidth\": 0}, \"xaxis\": {\"automargin\": true, \"gridcolor\": \"#283442\", \"linecolor\": \"#506784\", \"ticks\": \"\", \"title\": {\"standoff\": 15}, \"zerolinecolor\": \"#283442\", \"zerolinewidth\": 2}, \"yaxis\": {\"automargin\": true, \"gridcolor\": \"#283442\", \"linecolor\": \"#506784\", \"ticks\": \"\", \"title\": {\"standoff\": 15}, \"zerolinecolor\": \"#283442\", \"zerolinewidth\": 2}}}},\n",
              "                        {\"responsive\": true}\n",
              "                    ).then(function(){\n",
              "                            \n",
              "var gd = document.getElementById('aa007244-78f6-4f1b-8d5c-11197592b949');\n",
              "var x = new MutationObserver(function (mutations, observer) {{\n",
              "        var display = window.getComputedStyle(gd).display;\n",
              "        if (!display || display === 'none') {{\n",
              "            console.log([gd, 'removed!']);\n",
              "            Plotly.purge(gd);\n",
              "            observer.disconnect();\n",
              "        }}\n",
              "}});\n",
              "\n",
              "// Listen for the removal of the full notebook cells\n",
              "var notebookContainer = gd.closest('#notebook-container');\n",
              "if (notebookContainer) {{\n",
              "    x.observe(notebookContainer, {childList: true});\n",
              "}}\n",
              "\n",
              "// Listen for the clearing of the current output cell\n",
              "var outputEl = gd.closest('.output');\n",
              "if (outputEl) {{\n",
              "    x.observe(outputEl, {childList: true});\n",
              "}}\n",
              "\n",
              "                        })\n",
              "                };\n",
              "                \n",
              "            </script>\n",
              "        </div>\n",
              "</body>\n",
              "</html>"
            ]
          },
          "metadata": {
            "tags": []
          }
        }
      ]
    },
    {
      "cell_type": "code",
      "metadata": {
        "id": "eGrBoH7dOi7_",
        "colab_type": "code",
        "colab": {}
      },
      "source": [
        ""
      ],
      "execution_count": 0,
      "outputs": []
    }
  ]
}